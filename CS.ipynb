{
 "cells": [
  {
   "cell_type": "code",
   "execution_count": 4,
   "metadata": {},
   "outputs": [],
   "source": [
    "def match_ends(strings):\n",
    "    count=0\n",
    "    for word in strings:\n",
    "        if len(word) >= 2:\n",
    "            if word[0]==word[-1]:\n",
    "                count=count+1\n",
    "    return count\n",
    "\n",
    "\n",
    "    \n",
    "        "
   ]
  },
  {
   "cell_type": "code",
   "execution_count": 5,
   "metadata": {},
   "outputs": [
    {
     "data": {
      "text/plain": [
       "2"
      ]
     },
     "execution_count": 5,
     "metadata": {},
     "output_type": "execute_result"
    }
   ],
   "source": [
    "match_ends([\"xax\", \"a\", \"abs\",\"aa\"])"
   ]
  },
  {
   "cell_type": "code",
   "execution_count": 6,
   "metadata": {},
   "outputs": [],
   "source": [
    "def front_x(strings):\n",
    "    words=[]\n",
    "    words2=[]\n",
    "    for word in strings:\n",
    "        if word.startswith(\"x\"):\n",
    "            words.append(word)\n",
    "        else:\n",
    "            words2.append(word)\n",
    "    words.sort()\n",
    "    words2.sort()\n",
    "    lists=words+words2\n",
    "    return lists        \n",
    "    "
   ]
  },
  {
   "cell_type": "code",
   "execution_count": 29,
   "metadata": {},
   "outputs": [],
   "source": [
    "def front_x2(strings):\n",
    "    words=[]\n",
    "    strings.sort()\n",
    "    for word in strings:\n",
    "        if word.startswith(\"x\"):\n",
    "            words.append(word)\n",
    "            strings.pop(word)\n",
    "    #words.sort()\n",
    "    lists=words+strings\n",
    "    return lists        \n",
    "    "
   ]
  },
  {
   "cell_type": "code",
   "execution_count": 37,
   "metadata": {},
   "outputs": [
    {
     "data": {
      "text/plain": [
       "['xaa', 'xcc', 'aaa', 'bbb', 'ccc']"
      ]
     },
     "execution_count": 37,
     "metadata": {},
     "output_type": "execute_result"
    }
   ],
   "source": [
    "front_x([\"mix\", \"xyz\", \"apple\", \"xanda\", \"ardsfb\"])\n",
    "front_x([\"bbb\",\"ccc\",\"axx\", \"xzz\", \"xaa\"])\n",
    "front_x([\"ccc\",\"bbb\",\"aaa\",\"xcc\",\"xaa\"])"
   ]
  },
  {
   "cell_type": "code",
   "execution_count": 23,
   "metadata": {},
   "outputs": [],
   "source": [
    "def donuts(count):\n",
    "    if count>10:\n",
    "        return \"Number of donuts: many\"\n",
    "    else:\n",
    "        return \"Number of donuts: %d\" % count"
   ]
  },
  {
   "cell_type": "code",
   "execution_count": 35,
   "metadata": {},
   "outputs": [
    {
     "data": {
      "text/plain": [
       "'Number of donuts: 5'"
      ]
     },
     "execution_count": 35,
     "metadata": {},
     "output_type": "execute_result"
    }
   ],
   "source": [
    "donuts(5)"
   ]
  },
  {
   "cell_type": "code",
   "execution_count": 38,
   "metadata": {},
   "outputs": [
    {
     "data": {
      "text/plain": [
       "'Number of donuts: many'"
      ]
     },
     "execution_count": 38,
     "metadata": {},
     "output_type": "execute_result"
    }
   ],
   "source": [
    "donuts(23)"
   ]
  },
  {
   "cell_type": "code",
   "execution_count": null,
   "metadata": {},
   "outputs": [],
   "source": [
    "def both_ends(s):\n",
    "    "
   ]
  }
 ],
 "metadata": {
  "kernelspec": {
   "display_name": "Python 3",
   "language": "python",
   "name": "python3"
  },
  "language_info": {
   "codemirror_mode": {
    "name": "ipython",
    "version": 3
   },
   "file_extension": ".py",
   "mimetype": "text/x-python",
   "name": "python",
   "nbconvert_exporter": "python",
   "pygments_lexer": "ipython3",
   "version": "3.6.5"
  }
 },
 "nbformat": 4,
 "nbformat_minor": 2
}
